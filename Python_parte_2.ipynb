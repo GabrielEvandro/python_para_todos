{
  "nbformat": 4,
  "nbformat_minor": 0,
  "metadata": {
    "colab": {
      "name": "Python parte 2",
      "provenance": [],
      "toc_visible": true
    },
    "kernelspec": {
      "name": "python3",
      "display_name": "Python 3"
    },
    "language_info": {
      "name": "python"
    }
  },
  "cells": [
    {
      "cell_type": "markdown",
      "metadata": {
        "id": "wXDKimJjGHjj"
      },
      "source": [
        "# **Python parte II**\n"
      ]
    },
    {
      "cell_type": "markdown",
      "metadata": {
        "id": "qI41Bc4hGPwp"
      },
      "source": [
        "## **Fatiamento de strings**\n"
      ]
    },
    {
      "cell_type": "markdown",
      "metadata": {
        "id": "sw8522hXGzie"
      },
      "source": [
        "O fatiamento é uma maneira de você seleionar apenas uma parte da string.\n",
        "\n",
        "Essa é a estrutura do fatiamento de uma string \n",
        "\n",
        "**Nome_String [Limite_Inferior : Limite_Superior]**"
      ]
    },
    {
      "cell_type": "markdown",
      "metadata": {
        "id": "Ph_yQV1YHYBZ"
      },
      "source": [
        "🚨 Lembrando que a indexação em python começa no 0 e o limite superior de um fatiamento é um valor exclusivo, portanto em um fatiamento de 1:4 o método pegara os valores da string nas casas 1,2,3 pulando a primeira casa de valor 0 e excluindo o limite superior de valor 4"
      ]
    },
    {
      "cell_type": "code",
      "metadata": {
        "id": "qksHiNeJGrT0"
      },
      "source": [
        "x='Python'"
      ],
      "execution_count": 1,
      "outputs": []
    },
    {
      "cell_type": "code",
      "metadata": {
        "colab": {
          "base_uri": "https://localhost:8080/",
          "height": 35
        },
        "id": "5o1kR8fsFvNQ",
        "outputId": "0c9a3090-f30e-4be2-8520-6fe0be7d6bef"
      },
      "source": [
        "x[1:4] "
      ],
      "execution_count": 2,
      "outputs": [
        {
          "output_type": "execute_result",
          "data": {
            "application/vnd.google.colaboratory.intrinsic+json": {
              "type": "string"
            },
            "text/plain": [
              "'yth'"
            ]
          },
          "metadata": {},
          "execution_count": 2
        }
      ]
    },
    {
      "cell_type": "markdown",
      "metadata": {
        "id": "1YkIKfNGIy_e"
      },
      "source": [
        "Passando só o limite inferior ele irá pegar todos as casas após o valor do limite inferior, sendo o limite inferior valor inclusivo nesse fatiamento "
      ]
    },
    {
      "cell_type": "code",
      "metadata": {
        "colab": {
          "base_uri": "https://localhost:8080/",
          "height": 35
        },
        "id": "7IVPNMlQIrBz",
        "outputId": "da5f5403-1cfb-477c-a547-2b4adf08009d"
      },
      "source": [
        "x[2:]"
      ],
      "execution_count": 3,
      "outputs": [
        {
          "output_type": "execute_result",
          "data": {
            "application/vnd.google.colaboratory.intrinsic+json": {
              "type": "string"
            },
            "text/plain": [
              "'thon'"
            ]
          },
          "metadata": {},
          "execution_count": 3
        }
      ]
    },
    {
      "cell_type": "markdown",
      "metadata": {
        "id": "K2zqA1jNJyVa"
      },
      "source": [
        "Passando só o limite superior ele irá pegar todos as casas anterior ao valor do limite superior, lembrando que  o limite superior é um valor exclusivo."
      ]
    },
    {
      "cell_type": "code",
      "metadata": {
        "colab": {
          "base_uri": "https://localhost:8080/",
          "height": 35
        },
        "id": "81pTiztjJyu_",
        "outputId": "ea518bb2-0731-4287-aaf1-93572efd1056"
      },
      "source": [
        "x[:4] "
      ],
      "execution_count": 4,
      "outputs": [
        {
          "output_type": "execute_result",
          "data": {
            "application/vnd.google.colaboratory.intrinsic+json": {
              "type": "string"
            },
            "text/plain": [
              "'Pyth'"
            ]
          },
          "metadata": {},
          "execution_count": 4
        }
      ]
    },
    {
      "cell_type": "markdown",
      "metadata": {
        "id": "9MTHM3QKKfoA"
      },
      "source": [
        "## **Números**"
      ]
    },
    {
      "cell_type": "markdown",
      "metadata": {
        "id": "t9xMg7ZLKlLW"
      },
      "source": [
        "Existem quatro tipos númericos em python.\n",
        "\n",
        "Os quatro tipos numéricos simples são:\n",
        "\n",
        "\n",
        "1.   números inteiros **(int)**\n",
        "2.   números longos **(long)**\n",
        "3.   números decimais **(float)**\n",
        "4.   números complexos **(complex)**\n"
      ]
    },
    {
      "cell_type": "markdown",
      "metadata": {
        "id": "5fBlPzmJLQiw"
      },
      "source": [
        "A linguagem Python também possui operadores aritméticos, lógicos, de comparação e de bit."
      ]
    },
    {
      "cell_type": "markdown",
      "metadata": {
        "id": "EyjMEJAoLZcO"
      },
      "source": [
        "**Operadores Aritméticos**\n",
        "\n",
        "![image.png](data:image/png;base64,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)"
      ]
    },
    {
      "cell_type": "markdown",
      "metadata": {
        "id": "RTqG9wFTLlC7"
      },
      "source": [
        "exemplos dos operadores Aritméticos em python"
      ]
    },
    {
      "cell_type": "code",
      "metadata": {
        "colab": {
          "base_uri": "https://localhost:8080/"
        },
        "id": "bBBtaOCBLrjb",
        "outputId": "7eec1b4c-5bb9-4fd6-cae2-53a395d02c53"
      },
      "source": [
        "soma=5+5\n",
        "print('soma =',soma)\n",
        "subtração=5-5\n",
        "print('subtração =',subtração)\n",
        "multiplicação=5*5\n",
        "print('multiplicação =',multiplicação)\n",
        "divisão=5/5\n",
        "print('divisão =',divisão)\n",
        "resto_divisão=5%5\n",
        "print('resto da divisão =',resto_divisão)\n",
        "potencia=5**5\n",
        "print('potencia =',potencia)"
      ],
      "execution_count": 10,
      "outputs": [
        {
          "output_type": "stream",
          "name": "stdout",
          "text": [
            "soma = 10\n",
            "subtração = 0\n",
            "multiplicação = 25\n",
            "divisão = 1.0\n",
            "resto da divisão = 0\n",
            "potencia = 3125\n"
          ]
        }
      ]
    },
    {
      "cell_type": "markdown",
      "metadata": {
        "id": "kqK-MirGM2DI"
      },
      "source": [
        "**Operadores de Comparação**\n",
        "\n",
        "![image.png](data:image/png;base64,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)\n"
      ]
    },
    {
      "cell_type": "markdown",
      "metadata": {
        "id": "D0sV8kguNCnY"
      },
      "source": [
        "exemplos dos operadores de comparação em python"
      ]
    },
    {
      "cell_type": "code",
      "metadata": {
        "colab": {
          "base_uri": "https://localhost:8080/"
        },
        "id": "G85YLD8WNdYD",
        "outputId": "b7ec9120-4089-4377-d807-73027aeb7fcc"
      },
      "source": [
        "menor_que=10<5\n",
        "print('menor que =',menor_que)\n",
        "menor_ou_igual=10<=5\n",
        "print('menor ou igual =',menor_ou_igual)\n",
        "maior_que=10>5\n",
        "print('maior que =',maior_que)\n",
        "maior_ou_igual=10>=5\n",
        "print('maior ou igual =',maior_ou_igual)\n",
        "igual=10==5\n",
        "print('igual =',igual)\n",
        "diferente=10!=5\n",
        "print('diferente =',diferente)"
      ],
      "execution_count": 17,
      "outputs": [
        {
          "output_type": "stream",
          "name": "stdout",
          "text": [
            "menor que = False\n",
            "menor ou igual = False\n",
            "maior que = True\n",
            "maior ou igual = True\n",
            "igual = False\n",
            "diferente = True\n"
          ]
        }
      ]
    },
    {
      "cell_type": "markdown",
      "metadata": {
        "id": "W_xBmABsORyi"
      },
      "source": [
        "**Operadores Lógicos**\n",
        "\n",
        "![image.png](data:image/png;base64,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)"
      ]
    },
    {
      "cell_type": "markdown",
      "metadata": {
        "id": "wnn4OYJhOZEB"
      },
      "source": [
        "exemplos dos operadores lógicos em python"
      ]
    },
    {
      "cell_type": "code",
      "metadata": {
        "colab": {
          "base_uri": "https://localhost:8080/"
        },
        "id": "rUnGnOcTOeXl",
        "outputId": "f69810d9-2287-40a9-a09e-3b85c01469d6"
      },
      "source": [
        "not 3"
      ],
      "execution_count": 20,
      "outputs": [
        {
          "output_type": "execute_result",
          "data": {
            "text/plain": [
              "False"
            ]
          },
          "metadata": {},
          "execution_count": 20
        }
      ]
    },
    {
      "cell_type": "code",
      "metadata": {
        "colab": {
          "base_uri": "https://localhost:8080/"
        },
        "id": "dzNZ_XtUOlOu",
        "outputId": "44f775b7-94dc-4ce0-d0e5-59137cb47563"
      },
      "source": [
        "10>5 and 10<20"
      ],
      "execution_count": 21,
      "outputs": [
        {
          "output_type": "execute_result",
          "data": {
            "text/plain": [
              "True"
            ]
          },
          "metadata": {},
          "execution_count": 21
        }
      ]
    },
    {
      "cell_type": "code",
      "metadata": {
        "colab": {
          "base_uri": "https://localhost:8080/"
        },
        "id": "vVamipgEOsoc",
        "outputId": "c2dcd2f2-8ec4-40bb-f006-592e241d16eb"
      },
      "source": [
        "10>5 or 10<20"
      ],
      "execution_count": 22,
      "outputs": [
        {
          "output_type": "execute_result",
          "data": {
            "text/plain": [
              "True"
            ]
          },
          "metadata": {},
          "execution_count": 22
        }
      ]
    },
    {
      "cell_type": "markdown",
      "metadata": {
        "id": "FQcF1nPoO0SB"
      },
      "source": [
        "O operador **not** vai negar a condição passada para ele.\n",
        "\n",
        "O operador **and** vai comparar as duas condições, somente se as duas forem verdadeiras ele retorna como true \n",
        "\n",
        "O operador **or** vai analisar as duas condições e retornará true se ao menos uma delas for verdadeira."
      ]
    },
    {
      "cell_type": "code",
      "metadata": {
        "id": "JDYWF9uzOx8k"
      },
      "source": [
        ""
      ],
      "execution_count": null,
      "outputs": []
    }
  ]
}