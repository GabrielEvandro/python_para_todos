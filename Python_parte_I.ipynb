{
  "nbformat": 4,
  "nbformat_minor": 0,
  "metadata": {
    "colab": {
      "name": "Python parte I",
      "provenance": [],
      "collapsed_sections": []
    },
    "kernelspec": {
      "name": "python3",
      "display_name": "Python 3"
    },
    "language_info": {
      "name": "python"
    }
  },
  "cells": [
    {
      "cell_type": "markdown",
      "metadata": {
        "id": "HiqC8ye9Kv7t"
      },
      "source": [
        "#Python parte I"
      ]
    },
    {
      "cell_type": "markdown",
      "metadata": {
        "id": "xnmCUpvJLtKz"
      },
      "source": [
        "## Variáveis "
      ]
    },
    {
      "cell_type": "markdown",
      "metadata": {
        "id": "myS5MKTWK-lj"
      },
      "source": [
        "Variáveis são pequenos espaços de memória, utilizados para armazenar e manipular os dados. Em\n",
        "Python, os tipos de dados básicos são: \n",
        "\n",
        "* **Tipo inteiro** (armazena números inteiros)\n",
        "* **Tipo float** (armazena números em formato decimal)\n",
        "* **Tipo string** (armazena um conjunto de caracteres)\n",
        "\n",
        "Cada variável pode armazenar apenas um tipo de dado.\n",
        "Em Python não é necessário declarar o tipo da variável no início do programa. Quando se cria a variável ela automaticamente se torna do tipo do valor armazenado,como apresentado nos exemplos a seguir:\n"
      ]
    },
    {
      "cell_type": "markdown",
      "metadata": {
        "id": "HIEkt461OOBK"
      },
      "source": [
        "Tipo inteiro"
      ]
    },
    {
      "cell_type": "code",
      "metadata": {
        "colab": {
          "base_uri": "https://localhost:8080/"
        },
        "id": "IDqcH435K1HE",
        "outputId": "c986f0c2-0395-417c-aba9-5bc8b3288c41"
      },
      "source": [
        "X=10\n",
        "X"
      ],
      "execution_count": 5,
      "outputs": [
        {
          "output_type": "execute_result",
          "data": {
            "text/plain": [
              "10"
            ]
          },
          "metadata": {},
          "execution_count": 5
        }
      ]
    },
    {
      "cell_type": "markdown",
      "metadata": {
        "id": "k9m9VeqQOQ5S"
      },
      "source": [
        "Tipo float"
      ]
    },
    {
      "cell_type": "code",
      "metadata": {
        "colab": {
          "base_uri": "https://localhost:8080/"
        },
        "id": "IzI5-2r3OFxD",
        "outputId": "8b537e74-d541-4a5c-a1ec-7e5175bbd8c0"
      },
      "source": [
        "Y=1.2\n",
        "Y"
      ],
      "execution_count": 6,
      "outputs": [
        {
          "output_type": "execute_result",
          "data": {
            "text/plain": [
              "1.2"
            ]
          },
          "metadata": {},
          "execution_count": 6
        }
      ]
    },
    {
      "cell_type": "markdown",
      "metadata": {
        "id": "5wCr_9vnOSzi"
      },
      "source": [
        "Tipo String"
      ]
    },
    {
      "cell_type": "code",
      "metadata": {
        "colab": {
          "base_uri": "https://localhost:8080/",
          "height": 35
        },
        "id": "W9wqW4tCOJTK",
        "outputId": "8b0b6097-dab8-42b9-ba58-481c383daa2f"
      },
      "source": [
        "Z='Gabriel'\n",
        "Z"
      ],
      "execution_count": 7,
      "outputs": [
        {
          "output_type": "execute_result",
          "data": {
            "application/vnd.google.colaboratory.intrinsic+json": {
              "type": "string"
            },
            "text/plain": [
              "'Gabriel'"
            ]
          },
          "metadata": {},
          "execution_count": 7
        }
      ]
    },
    {
      "cell_type": "markdown",
      "metadata": {
        "id": "1i3jl1GjOn2D"
      },
      "source": [
        "A atribuição de valor para uma variável também pode ser feita através do comando **input()**, que solicita ao usuário o valor que ele quer para variável.\n"
      ]
    },
    {
      "cell_type": "code",
      "metadata": {
        "colab": {
          "base_uri": "https://localhost:8080/"
        },
        "id": "oSRWZTYLOnHu",
        "outputId": "2ba0f483-7fe3-47b9-e6a8-2ffbcd4313e5"
      },
      "source": [
        "nome = input('Digite seu nome: ')"
      ],
      "execution_count": 10,
      "outputs": [
        {
          "output_type": "stream",
          "text": [
            "Digite seu nome: Gabriel\n"
          ],
          "name": "stdout"
        }
      ]
    },
    {
      "cell_type": "code",
      "metadata": {
        "colab": {
          "base_uri": "https://localhost:8080/",
          "height": 35
        },
        "id": "SIEjqPSVP1d7",
        "outputId": "87b3ed55-451f-462f-9ba4-ebe6884c524f"
      },
      "source": [
        "nome"
      ],
      "execution_count": 11,
      "outputs": [
        {
          "output_type": "execute_result",
          "data": {
            "application/vnd.google.colaboratory.intrinsic+json": {
              "type": "string"
            },
            "text/plain": [
              "'Gabriel'"
            ]
          },
          "metadata": {},
          "execution_count": 11
        }
      ]
    },
    {
      "cell_type": "markdown",
      "metadata": {
        "id": "okCAWD8iP9Ui"
      },
      "source": [
        "🚨 Lembrando que por padrão o comando input sempre retornará uma string"
      ]
    },
    {
      "cell_type": "code",
      "metadata": {
        "colab": {
          "base_uri": "https://localhost:8080/"
        },
        "id": "rZuRvXLZP8br",
        "outputId": "4f6b6a75-eb51-4fca-f8c8-033a18a82b4b"
      },
      "source": [
        "numero_inteiro = input('Digite um numero inteiro: ')\n",
        "numero_decimal= input('Digite um numero decimal: ')"
      ],
      "execution_count": 14,
      "outputs": [
        {
          "output_type": "stream",
          "text": [
            "Digite um numero inteiro: 10\n",
            "Digite um numero decimal: 1.2\n"
          ],
          "name": "stdout"
        }
      ]
    },
    {
      "cell_type": "code",
      "metadata": {
        "colab": {
          "base_uri": "https://localhost:8080/",
          "height": 35
        },
        "id": "gE3C5y-hQbbz",
        "outputId": "4feef1e1-d865-485a-cbfa-b98daf949bcf"
      },
      "source": [
        "numero_inteiro"
      ],
      "execution_count": 15,
      "outputs": [
        {
          "output_type": "execute_result",
          "data": {
            "application/vnd.google.colaboratory.intrinsic+json": {
              "type": "string"
            },
            "text/plain": [
              "'10'"
            ]
          },
          "metadata": {},
          "execution_count": 15
        }
      ]
    },
    {
      "cell_type": "code",
      "metadata": {
        "colab": {
          "base_uri": "https://localhost:8080/",
          "height": 35
        },
        "id": "7Bfi0i3tQtLq",
        "outputId": "cba01e2d-3fc9-4dc8-b769-d0f828172881"
      },
      "source": [
        "numero_decimal"
      ],
      "execution_count": 16,
      "outputs": [
        {
          "output_type": "execute_result",
          "data": {
            "application/vnd.google.colaboratory.intrinsic+json": {
              "type": "string"
            },
            "text/plain": [
              "'1.2'"
            ]
          },
          "metadata": {},
          "execution_count": 16
        }
      ]
    },
    {
      "cell_type": "markdown",
      "metadata": {
        "id": "n9L4R061QvzS"
      },
      "source": [
        "As aspas no valor  **'10'** e  **'1.2'** indicam que mesmo que sejam numeros o tipo dessa variável foi armazenado como string"
      ]
    },
    {
      "cell_type": "markdown",
      "metadata": {
        "id": "cvyIrp5dROQS"
      },
      "source": [
        "Para que o método input grave as variáveis em suas formas corretas devemos passar o tipo que queremos converter esses valores, utilizando o método **int()** para valores inteiros e o método **float()** para valores decimais "
      ]
    },
    {
      "cell_type": "code",
      "metadata": {
        "colab": {
          "base_uri": "https://localhost:8080/"
        },
        "id": "R_ro8DHXRNeT",
        "outputId": "b6cd9a13-c597-4664-e04d-9903e1dd6206"
      },
      "source": [
        "numero_inteiro = int(input('Digite um numero inteiro: '))\n",
        "numero_decimal= float(input('Digite um numero decimal: '))"
      ],
      "execution_count": 17,
      "outputs": [
        {
          "output_type": "stream",
          "text": [
            "Digite um numero inteiro: 10\n",
            "Digite um numero decimal: 1.2\n"
          ],
          "name": "stdout"
        }
      ]
    },
    {
      "cell_type": "code",
      "metadata": {
        "colab": {
          "base_uri": "https://localhost:8080/"
        },
        "id": "2_CPPKZoR2HD",
        "outputId": "7a718292-a3ff-4b0a-be83-cec3efdccbe9"
      },
      "source": [
        "numero_inteiro"
      ],
      "execution_count": 18,
      "outputs": [
        {
          "output_type": "execute_result",
          "data": {
            "text/plain": [
              "10"
            ]
          },
          "metadata": {},
          "execution_count": 18
        }
      ]
    },
    {
      "cell_type": "code",
      "metadata": {
        "colab": {
          "base_uri": "https://localhost:8080/"
        },
        "id": "l_zTpMCSR4J6",
        "outputId": "808a7287-0791-41d4-cfd5-96666336e8ca"
      },
      "source": [
        "numero_decimal"
      ],
      "execution_count": 19,
      "outputs": [
        {
          "output_type": "execute_result",
          "data": {
            "text/plain": [
              "1.2"
            ]
          },
          "metadata": {},
          "execution_count": 19
        }
      ]
    },
    {
      "cell_type": "markdown",
      "metadata": {
        "id": "rBhkkGpgYlWS"
      },
      "source": [
        "Nomenclatura para as variáveis \n",
        "\n",
        "![image.png](data:image/png;base64,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)"
      ]
    },
    {
      "cell_type": "markdown",
      "metadata": {
        "id": "rvA_YxvpcjoS"
      },
      "source": [
        "## Strings"
      ]
    },
    {
      "cell_type": "markdown",
      "metadata": {
        "id": "SvfpSYTBcwax"
      },
      "source": [
        "Uma string é uma sequência de caracteres. \n",
        "Na linguagem Python, as strings podem tanto serem utilizadas \n",
        "com aspas simples ('  ') quanto com aspas duplas (\"  \").\n",
        "E você pode exibir uma string através do comando **print()**."
      ]
    },
    {
      "cell_type": "code",
      "metadata": {
        "colab": {
          "base_uri": "https://localhost:8080/"
        },
        "id": "cW_Ve42_etnF",
        "outputId": "384f77c9-0157-4b33-d65d-c4ec8cf77811"
      },
      "source": [
        "print('Olá python')"
      ],
      "execution_count": 21,
      "outputs": [
        {
          "output_type": "stream",
          "text": [
            "Olá python\n"
          ],
          "name": "stdout"
        }
      ]
    },
    {
      "cell_type": "markdown",
      "metadata": {
        "id": "iMDtSaoze8Hq"
      },
      "source": [
        "Você também pode concatenar as strings, que nada mais é do que unir duas ou mais stings, e para isso se utiliza o operador **+**"
      ]
    },
    {
      "cell_type": "code",
      "metadata": {
        "colab": {
          "base_uri": "https://localhost:8080/"
        },
        "id": "yW-fykdlfTng",
        "outputId": "8900f6d1-f4eb-4623-c0bd-cbc07e23e7c7"
      },
      "source": [
        "print('Olá'+'python')"
      ],
      "execution_count": 22,
      "outputs": [
        {
          "output_type": "stream",
          "text": [
            "Olápython\n"
          ],
          "name": "stdout"
        }
      ]
    },
    {
      "cell_type": "code",
      "metadata": {
        "colab": {
          "base_uri": "https://localhost:8080/"
        },
        "id": "PC4tM5jSgNbA",
        "outputId": "0de8704e-6ae5-4d43-ace2-c14605e1fb32"
      },
      "source": [
        "print('Olá'+' '+'python')"
      ],
      "execution_count": 23,
      "outputs": [
        {
          "output_type": "stream",
          "text": [
            "Olá python\n"
          ],
          "name": "stdout"
        }
      ]
    },
    {
      "cell_type": "code",
      "metadata": {
        "colab": {
          "base_uri": "https://localhost:8080/"
        },
        "id": "jWegXMysgVl4",
        "outputId": "d7f03d8a-9a4a-4e36-8396-9867ed4471c0"
      },
      "source": [
        "x='Olá'\n",
        "y=' '\n",
        "z='Python'\n",
        "w=x+y+z\n",
        "print(w)"
      ],
      "execution_count": 28,
      "outputs": [
        {
          "output_type": "stream",
          "text": [
            "Olá Python\n"
          ],
          "name": "stdout"
        }
      ]
    },
    {
      "cell_type": "markdown",
      "metadata": {
        "id": "trGq939LhPTa"
      },
      "source": [
        "## Manipulação de strings"
      ]
    },
    {
      "cell_type": "markdown",
      "metadata": {
        "id": "JyPcfjx6hTDa"
      },
      "source": [
        "Em Python, existem várias funções para manipular strings.Irei apresentar os principais funções para a manipulação das strings.\n"
      ]
    },
    {
      "cell_type": "markdown",
      "metadata": {
        "id": "4sAHiY_rizCp"
      },
      "source": [
        "**Len()** - Retorna o tamanho da sua string, levando em conta também os espaços"
      ]
    },
    {
      "cell_type": "code",
      "metadata": {
        "colab": {
          "base_uri": "https://localhost:8080/"
        },
        "id": "hWc-xx5-iydY",
        "outputId": "30a6e5da-c952-4941-8971-34946086c39c"
      },
      "source": [
        "teste =\"Olá Python\"\n",
        "len(teste)"
      ],
      "execution_count": 35,
      "outputs": [
        {
          "output_type": "execute_result",
          "data": {
            "text/plain": [
              "10"
            ]
          },
          "metadata": {},
          "execution_count": 35
        }
      ]
    },
    {
      "cell_type": "markdown",
      "metadata": {
        "id": "0Lr4XHRtjc6S"
      },
      "source": [
        "**Capitalize()** - Retorna a string com a primeira letra maiúscula "
      ]
    },
    {
      "cell_type": "code",
      "metadata": {
        "colab": {
          "base_uri": "https://localhost:8080/",
          "height": 35
        },
        "id": "Z7phiiJ1jl1b",
        "outputId": "373e12d1-aa53-491f-bcd6-904f7d98cc2b"
      },
      "source": [
        "teste = \"python\"\n",
        "teste.capitalize()"
      ],
      "execution_count": 38,
      "outputs": [
        {
          "output_type": "execute_result",
          "data": {
            "application/vnd.google.colaboratory.intrinsic+json": {
              "type": "string"
            },
            "text/plain": [
              "'Python'"
            ]
          },
          "metadata": {},
          "execution_count": 38
        }
      ]
    },
    {
      "cell_type": "markdown",
      "metadata": {
        "id": "15xcRNvejtzI"
      },
      "source": [
        "**count()** - Informa quantas vezes um caractere (ou uma sequência de caracteres) aparece na string"
      ]
    },
    {
      "cell_type": "code",
      "metadata": {
        "colab": {
          "base_uri": "https://localhost:8080/"
        },
        "id": "zfv_j2d2j3kB",
        "outputId": "2104d1e6-6852-4807-8456-0a5ce8c5fc02"
      },
      "source": [
        "teste = \"Linguagem Python\"\n",
        "teste.count(\"n\")"
      ],
      "execution_count": 39,
      "outputs": [
        {
          "output_type": "execute_result",
          "data": {
            "text/plain": [
              "2"
            ]
          },
          "metadata": {},
          "execution_count": 39
        }
      ]
    },
    {
      "cell_type": "code",
      "metadata": {
        "colab": {
          "base_uri": "https://localhost:8080/"
        },
        "id": "y6j7x_zEj9xG",
        "outputId": "fc0ff272-b84b-4dd9-f987-41796832e9ca"
      },
      "source": [
        "teste = \"Linguagem Python\"\n",
        "teste.count(\"gua\")"
      ],
      "execution_count": 40,
      "outputs": [
        {
          "output_type": "execute_result",
          "data": {
            "text/plain": [
              "1"
            ]
          },
          "metadata": {},
          "execution_count": 40
        }
      ]
    },
    {
      "cell_type": "markdown",
      "metadata": {
        "id": "EBKMIKdAkET4"
      },
      "source": [
        "**startswith()** - Verifica se uma string inicia com uma determinada\n",
        "sequência, retornando True ou False"
      ]
    },
    {
      "cell_type": "code",
      "metadata": {
        "colab": {
          "base_uri": "https://localhost:8080/"
        },
        "id": "NV9tFfT0kK0f",
        "outputId": "f81c1d9c-2be7-43a0-ac2c-e8c8f82b8f0b"
      },
      "source": [
        "teste = \"Python\"\n",
        "teste.startswith(\"Py\")"
      ],
      "execution_count": 41,
      "outputs": [
        {
          "output_type": "execute_result",
          "data": {
            "text/plain": [
              "True"
            ]
          },
          "metadata": {},
          "execution_count": 41
        }
      ]
    },
    {
      "cell_type": "markdown",
      "metadata": {
        "id": "fwJGPuIPka3Y"
      },
      "source": [
        "**endswith()** - Verifica se uma string termina com uma determinada\n",
        "sequência,retornando True ou False\n"
      ]
    },
    {
      "cell_type": "code",
      "metadata": {
        "colab": {
          "base_uri": "https://localhost:8080/"
        },
        "id": "2SCy-gy8kiCv",
        "outputId": "005d146e-e980-4c54-bfa7-9ffe3897c7cb"
      },
      "source": [
        "teste = \"Python\"\n",
        "teste.endswith(\"Py\")"
      ],
      "execution_count": 42,
      "outputs": [
        {
          "output_type": "execute_result",
          "data": {
            "text/plain": [
              "False"
            ]
          },
          "metadata": {},
          "execution_count": 42
        }
      ]
    },
    {
      "cell_type": "markdown",
      "metadata": {
        "id": "YfnONKiwnJlB"
      },
      "source": [
        "**isalnum()** - Verifica se a string possui algum conteúdo alfanumérico (letra ou número)."
      ]
    },
    {
      "cell_type": "code",
      "metadata": {
        "colab": {
          "base_uri": "https://localhost:8080/"
        },
        "id": "AT9BdCfqnPtB",
        "outputId": "b3ce54cd-0ea4-458e-ad0a-4d854f3db60e"
      },
      "source": [
        "teste = \"!@#$%\"\n",
        "teste.isalnum()"
      ],
      "execution_count": 43,
      "outputs": [
        {
          "output_type": "execute_result",
          "data": {
            "text/plain": [
              "False"
            ]
          },
          "metadata": {},
          "execution_count": 43
        }
      ]
    },
    {
      "cell_type": "markdown",
      "metadata": {
        "id": "RPccLLCBnVhw"
      },
      "source": [
        "**isalpha()** - Verifica se a string possui apenas conteúdo alfabético.\n",
        "\n"
      ]
    },
    {
      "cell_type": "code",
      "metadata": {
        "colab": {
          "base_uri": "https://localhost:8080/"
        },
        "id": "KVwGq_1rn6KQ",
        "outputId": "4c350589-a148-452e-e1ed-05ac17ead64e"
      },
      "source": [
        "teste = \"Python\"\n",
        "teste.isalpha()"
      ],
      "execution_count": 44,
      "outputs": [
        {
          "output_type": "execute_result",
          "data": {
            "text/plain": [
              "True"
            ]
          },
          "metadata": {},
          "execution_count": 44
        }
      ]
    },
    {
      "cell_type": "markdown",
      "metadata": {
        "id": "2c1JI-ygoLy3"
      },
      "source": [
        "**islower()** - Verifica se todas as letras de uma string são minúsculas.\n"
      ]
    },
    {
      "cell_type": "code",
      "metadata": {
        "colab": {
          "base_uri": "https://localhost:8080/"
        },
        "id": "CdsSCg9UoTTX",
        "outputId": "ee1f5473-6a65-40d6-9afb-c26e6dc35b3b"
      },
      "source": [
        "teste = \"pytHon\"\n",
        "teste.islower()"
      ],
      "execution_count": 46,
      "outputs": [
        {
          "output_type": "execute_result",
          "data": {
            "text/plain": [
              "False"
            ]
          },
          "metadata": {},
          "execution_count": 46
        }
      ]
    },
    {
      "cell_type": "markdown",
      "metadata": {
        "id": "Xb2Vh1peoZGQ"
      },
      "source": [
        "**isupper()** - Verifica se todas as letras de uma string são maiúsculas.\n"
      ]
    },
    {
      "cell_type": "code",
      "metadata": {
        "colab": {
          "base_uri": "https://localhost:8080/"
        },
        "id": "iaW1SV9dpRvR",
        "outputId": "ee9d745b-5294-44e7-c45c-3c70b9475232"
      },
      "source": [
        "teste = \"PYTHON 12\"\n",
        "teste.isupper()"
      ],
      "execution_count": 47,
      "outputs": [
        {
          "output_type": "execute_result",
          "data": {
            "text/plain": [
              "True"
            ]
          },
          "metadata": {},
          "execution_count": 47
        }
      ]
    },
    {
      "cell_type": "markdown",
      "metadata": {
        "id": "Ed1K-ETqpVpp"
      },
      "source": [
        "**lower()** - Retorna uma cópia da string trocando todas as letras\n",
        "para minúsculo.\n",
        "\n"
      ]
    },
    {
      "cell_type": "code",
      "metadata": {
        "colab": {
          "base_uri": "https://localhost:8080/",
          "height": 35
        },
        "id": "I9G1xcYNpaqv",
        "outputId": "939bc96b-9b27-4ad4-abd2-dab92ed75482"
      },
      "source": [
        "teste = \"PYTHON 3\"\n",
        "teste.lower()"
      ],
      "execution_count": 48,
      "outputs": [
        {
          "output_type": "execute_result",
          "data": {
            "application/vnd.google.colaboratory.intrinsic+json": {
              "type": "string"
            },
            "text/plain": [
              "'python 3'"
            ]
          },
          "metadata": {},
          "execution_count": 48
        }
      ]
    },
    {
      "cell_type": "markdown",
      "metadata": {
        "id": "3YhfzQq7pe0X"
      },
      "source": [
        "**upper()** - Retorna uma cópia da string trocando todas as letras\n",
        "para maiúsculo.\n",
        "\n"
      ]
    },
    {
      "cell_type": "code",
      "metadata": {
        "colab": {
          "base_uri": "https://localhost:8080/",
          "height": 35
        },
        "id": "4iEuCKPlpjKc",
        "outputId": "611946fb-25bc-4f47-cfac-6ecb7b768cda"
      },
      "source": [
        "teste = \"Python\"\n",
        "teste.upper()"
      ],
      "execution_count": 49,
      "outputs": [
        {
          "output_type": "execute_result",
          "data": {
            "application/vnd.google.colaboratory.intrinsic+json": {
              "type": "string"
            },
            "text/plain": [
              "'PYTHON'"
            ]
          },
          "metadata": {},
          "execution_count": 49
        }
      ]
    },
    {
      "cell_type": "markdown",
      "metadata": {
        "id": "TCx5nVDZpl97"
      },
      "source": [
        "**swapcase()** - Inverte o conteúdo da string (Minúsculo / Maiúsculo).\n"
      ]
    },
    {
      "cell_type": "code",
      "metadata": {
        "colab": {
          "base_uri": "https://localhost:8080/",
          "height": 35
        },
        "id": "9vKsjhYIprBC",
        "outputId": "20867d80-81af-46cd-9e5d-678aff34dd12"
      },
      "source": [
        "teste = \"Python\"\n",
        "teste.swapcase()"
      ],
      "execution_count": 50,
      "outputs": [
        {
          "output_type": "execute_result",
          "data": {
            "application/vnd.google.colaboratory.intrinsic+json": {
              "type": "string"
            },
            "text/plain": [
              "'pYTHON'"
            ]
          },
          "metadata": {},
          "execution_count": 50
        }
      ]
    },
    {
      "cell_type": "markdown",
      "metadata": {
        "id": "kFC4wL0VpuQv"
      },
      "source": [
        "**title()** - Converte para maiúsculo todas as primeiras letras de\n",
        "cada palavra da string.\n"
      ]
    },
    {
      "cell_type": "code",
      "metadata": {
        "colab": {
          "base_uri": "https://localhost:8080/",
          "height": 35
        },
        "id": "JzWl_7-bp03a",
        "outputId": "c27e502c-697b-4251-bbbe-8c26559f524d"
      },
      "source": [
        "teste = \"apostila de python\"\n",
        "teste.title()"
      ],
      "execution_count": 51,
      "outputs": [
        {
          "output_type": "execute_result",
          "data": {
            "application/vnd.google.colaboratory.intrinsic+json": {
              "type": "string"
            },
            "text/plain": [
              "'Apostila De Python'"
            ]
          },
          "metadata": {},
          "execution_count": 51
        }
      ]
    },
    {
      "cell_type": "markdown",
      "metadata": {
        "id": "spg-3Trsp4Kf"
      },
      "source": [
        "**split()** - Transforma a string em uma lista, utilizando os espaços como referência.\n",
        "\n",
        "🚨 Você ainda pode passar como parâmetro na função o que ela vai utilizar como referência para criar a lista caso sua string não tenha espaços \n"
      ]
    },
    {
      "cell_type": "code",
      "metadata": {
        "colab": {
          "base_uri": "https://localhost:8080/"
        },
        "id": "4o2ZogaQqEJb",
        "outputId": "8a01e0df-8b18-4de5-9336-8d2323aea4f7"
      },
      "source": [
        "teste = \"cana de açúcar\"\n",
        "teste.split()"
      ],
      "execution_count": 55,
      "outputs": [
        {
          "output_type": "execute_result",
          "data": {
            "text/plain": [
              "['cana', 'de', 'açúcar']"
            ]
          },
          "metadata": {},
          "execution_count": 55
        }
      ]
    },
    {
      "cell_type": "code",
      "metadata": {
        "colab": {
          "base_uri": "https://localhost:8080/"
        },
        "id": "kPi8HWVwqmlQ",
        "outputId": "3e74fbeb-99f7-46fd-a755-3662c4b6cee6"
      },
      "source": [
        "teste = \"canadeaçúcar\"\n",
        "teste.split('de')"
      ],
      "execution_count": 57,
      "outputs": [
        {
          "output_type": "execute_result",
          "data": {
            "text/plain": [
              "['cana', 'açúcar']"
            ]
          },
          "metadata": {},
          "execution_count": 57
        }
      ]
    },
    {
      "cell_type": "code",
      "metadata": {
        "colab": {
          "base_uri": "https://localhost:8080/"
        },
        "id": "yOq3Giutqs7W",
        "outputId": "f148c25f-66f7-47f6-af58-7f5790e117ec"
      },
      "source": [
        "teste = \"cana_de_açúcar\"\n",
        "teste.split('_')"
      ],
      "execution_count": 58,
      "outputs": [
        {
          "output_type": "execute_result",
          "data": {
            "text/plain": [
              "['cana', 'de', 'açúcar']"
            ]
          },
          "metadata": {},
          "execution_count": 58
        }
      ]
    },
    {
      "cell_type": "markdown",
      "metadata": {
        "id": "G1M02juhr9R0"
      },
      "source": [
        "**replace(S1, S2)** - Substitui na string o valor passado como parâmetro S1 pelo valor S2.\n"
      ]
    },
    {
      "cell_type": "code",
      "metadata": {
        "colab": {
          "base_uri": "https://localhost:8080/",
          "height": 35
        },
        "id": "1PkQozffsFwE",
        "outputId": "3b4acd96-7c1f-47ca-a52f-8bd972e84893"
      },
      "source": [
        "teste = \"realizando teste de função python\"\n",
        "teste.replace(\"função\", \"replace\")"
      ],
      "execution_count": 61,
      "outputs": [
        {
          "output_type": "execute_result",
          "data": {
            "application/vnd.google.colaboratory.intrinsic+json": {
              "type": "string"
            },
            "text/plain": [
              "'realizando teste de replace python'"
            ]
          },
          "metadata": {},
          "execution_count": 61
        }
      ]
    },
    {
      "cell_type": "markdown",
      "metadata": {
        "id": "55Vk9p53tRHJ"
      },
      "source": [
        "**find()** - Retorna o índice da primeira aparição de um determinado caractere passado como parâmetro na função. Se o caractere não\n",
        "estiver na string retorna -1.\n",
        "\n",
        "🚨 Lembrando que a indexação  em python começa no valor 0, portanto a string python tem 5 como valor maximo no seu índice.\n",
        "\n",
        "P-Y-T-H-O-N\n",
        "\n",
        "0-1-2-3-4-5\n",
        "\n"
      ]
    },
    {
      "cell_type": "code",
      "metadata": {
        "colab": {
          "base_uri": "https://localhost:8080/"
        },
        "id": "fCOcVj_5tWLp",
        "outputId": "f259d01f-e3d5-4dbc-fe7a-f0cf06d4a3ec"
      },
      "source": [
        "teste = \"Python\"\n",
        "teste.find(\"h\")"
      ],
      "execution_count": 63,
      "outputs": [
        {
          "output_type": "execute_result",
          "data": {
            "text/plain": [
              "3"
            ]
          },
          "metadata": {},
          "execution_count": 63
        }
      ]
    },
    {
      "cell_type": "markdown",
      "metadata": {
        "id": "NWHFEIdfvlny"
      },
      "source": [
        "**ljust()** - Ajusta a string para um tamanho mínimo, acrescentando espaços à direita se necessário.\n"
      ]
    },
    {
      "cell_type": "code",
      "metadata": {
        "colab": {
          "base_uri": "https://localhost:8080/",
          "height": 35
        },
        "id": "58-rhwu2vo_-",
        "outputId": "491fdbd5-cf8f-4dc7-d83d-d19bd8987c8b"
      },
      "source": [
        "teste = \" Python\"\n",
        "teste.ljust(10)"
      ],
      "execution_count": 66,
      "outputs": [
        {
          "output_type": "execute_result",
          "data": {
            "application/vnd.google.colaboratory.intrinsic+json": {
              "type": "string"
            },
            "text/plain": [
              "' Python   '"
            ]
          },
          "metadata": {},
          "execution_count": 66
        }
      ]
    },
    {
      "cell_type": "markdown",
      "metadata": {
        "id": "N_1UYOtpyVVm"
      },
      "source": [
        "**rjust()** - Ajusta a string para um tamanho mínimo, acrescentando espaços à esquerda se necessário.\n",
        "\n"
      ]
    },
    {
      "cell_type": "code",
      "metadata": {
        "colab": {
          "base_uri": "https://localhost:8080/",
          "height": 35
        },
        "id": "iQJnteS9yX3U",
        "outputId": "c19688e3-31ba-46b4-e8e3-eae852620f2b"
      },
      "source": [
        "teste= \"Python\"\n",
        "teste.rjust(15)"
      ],
      "execution_count": 67,
      "outputs": [
        {
          "output_type": "execute_result",
          "data": {
            "application/vnd.google.colaboratory.intrinsic+json": {
              "type": "string"
            },
            "text/plain": [
              "'         Python'"
            ]
          },
          "metadata": {},
          "execution_count": 67
        }
      ]
    },
    {
      "cell_type": "markdown",
      "metadata": {
        "id": "m3H96TDGyjIu"
      },
      "source": [
        "**center()** - Ajusta a string para um tamanho mínimo, acrescentando espaços à esquerda e à direita, se necessário.\n"
      ]
    },
    {
      "cell_type": "code",
      "metadata": {
        "colab": {
          "base_uri": "https://localhost:8080/",
          "height": 35
        },
        "id": "CEj64w2AymD7",
        "outputId": "2b153019-d53c-4180-d83a-07c97f5555da"
      },
      "source": [
        "teste = \"Python\"\n",
        "teste.center(10)\n"
      ],
      "execution_count": 69,
      "outputs": [
        {
          "output_type": "execute_result",
          "data": {
            "application/vnd.google.colaboratory.intrinsic+json": {
              "type": "string"
            },
            "text/plain": [
              "'  Python  '"
            ]
          },
          "metadata": {},
          "execution_count": 69
        }
      ]
    },
    {
      "cell_type": "markdown",
      "metadata": {
        "id": "rcTCratey_iY"
      },
      "source": [
        "**lstrip()** - Remove todos os espaços em branco do lado esquerdo da string.\n",
        "\n"
      ]
    },
    {
      "cell_type": "code",
      "metadata": {
        "colab": {
          "base_uri": "https://localhost:8080/",
          "height": 35
        },
        "id": "VBd88xLYzNbW",
        "outputId": "42a93cc3-6d5f-4428-b8f4-2d5f912f67b9"
      },
      "source": [
        "teste = \"     Python\"\n",
        "teste.lstrip()"
      ],
      "execution_count": 71,
      "outputs": [
        {
          "output_type": "execute_result",
          "data": {
            "application/vnd.google.colaboratory.intrinsic+json": {
              "type": "string"
            },
            "text/plain": [
              "'Python'"
            ]
          },
          "metadata": {},
          "execution_count": 71
        }
      ]
    },
    {
      "cell_type": "markdown",
      "metadata": {
        "id": "sQPTq544zk8d"
      },
      "source": [
        "**rstrip()** - Remove todos os espaços em branco do lado direito\n",
        "da string.\n"
      ]
    },
    {
      "cell_type": "code",
      "metadata": {
        "colab": {
          "base_uri": "https://localhost:8080/",
          "height": 35
        },
        "id": "b5Alni1fzpqJ",
        "outputId": "e24d780d-6b4a-4f5f-f4bd-6dab118b03e4"
      },
      "source": [
        "teste = \"Python     \"\n",
        "teste.rstrip()\n"
      ],
      "execution_count": 72,
      "outputs": [
        {
          "output_type": "execute_result",
          "data": {
            "application/vnd.google.colaboratory.intrinsic+json": {
              "type": "string"
            },
            "text/plain": [
              "'Python'"
            ]
          },
          "metadata": {},
          "execution_count": 72
        }
      ]
    },
    {
      "cell_type": "markdown",
      "metadata": {
        "id": "3CVLcSiWzv6i"
      },
      "source": [
        "**strip()** Remove todos os espaços em branco da string.\n"
      ]
    },
    {
      "cell_type": "code",
      "metadata": {
        "colab": {
          "base_uri": "https://localhost:8080/",
          "height": 35
        },
        "id": "Vfp6vSt7z1i9",
        "outputId": "39809b3e-d6dd-4b41-eb65-e201a1a4b69b"
      },
      "source": [
        "teste = \"   Python     \"\n",
        "teste.strip()\n"
      ],
      "execution_count": 75,
      "outputs": [
        {
          "output_type": "execute_result",
          "data": {
            "application/vnd.google.colaboratory.intrinsic+json": {
              "type": "string"
            },
            "text/plain": [
              "'Python'"
            ]
          },
          "metadata": {},
          "execution_count": 75
        }
      ]
    }
  ]
}